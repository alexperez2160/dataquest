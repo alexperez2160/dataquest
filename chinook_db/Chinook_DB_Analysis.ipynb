{
 "cells": [
  {
   "cell_type": "markdown",
   "metadata": {
    "collapsed": true
   },
   "source": [
    "This analysis will be using the Chinook DB to answer some business questions."
   ]
  },
  {
   "cell_type": "code",
   "execution_count": 1,
   "metadata": {
    "collapsed": false
   },
   "outputs": [],
   "source": [
    "import pandas as pd \n",
    "import matplotlib.pyplot as plt\n",
    "import sqlite3\n",
    "%matplotlib inline\n",
    "\n",
    "# creates a helper function for returning tables \n",
    "def run_query(q):\n",
    "    with sqlite3.connect('chinook.db') as conn:\n",
    "        return pd.read_sql(q, conn)\n",
    "\n",
    "# creates a helper function for views \n",
    "def run_command(c):\n",
    "    with sqlite3.connect('chinook.db') as conn: \n",
    "        conn.isolation_level = None \n",
    "        conn.execute(c)\n",
    "        \n",
    "#returns a list of all tables and views in the db\n",
    "def show_tables():\n",
    "    q = 'SELECT name, type FROM sqlite_master WHERE type IN (\"table\", \"view\");'\n",
    "    return run_query(q)"
   ]
  },
  {
   "cell_type": "code",
   "execution_count": 3,
   "metadata": {
    "collapsed": false
   },
   "outputs": [
    {
     "data": {
      "text/html": [
       "<div>\n",
       "<table border=\"1\" class=\"dataframe\">\n",
       "  <thead>\n",
       "    <tr style=\"text-align: right;\">\n",
       "      <th></th>\n",
       "      <th>name</th>\n",
       "      <th>type</th>\n",
       "    </tr>\n",
       "  </thead>\n",
       "  <tbody>\n",
       "    <tr>\n",
       "      <th>0</th>\n",
       "      <td>album</td>\n",
       "      <td>table</td>\n",
       "    </tr>\n",
       "    <tr>\n",
       "      <th>1</th>\n",
       "      <td>artist</td>\n",
       "      <td>table</td>\n",
       "    </tr>\n",
       "    <tr>\n",
       "      <th>2</th>\n",
       "      <td>customer</td>\n",
       "      <td>table</td>\n",
       "    </tr>\n",
       "    <tr>\n",
       "      <th>3</th>\n",
       "      <td>employee</td>\n",
       "      <td>table</td>\n",
       "    </tr>\n",
       "    <tr>\n",
       "      <th>4</th>\n",
       "      <td>genre</td>\n",
       "      <td>table</td>\n",
       "    </tr>\n",
       "    <tr>\n",
       "      <th>5</th>\n",
       "      <td>invoice</td>\n",
       "      <td>table</td>\n",
       "    </tr>\n",
       "    <tr>\n",
       "      <th>6</th>\n",
       "      <td>invoice_line</td>\n",
       "      <td>table</td>\n",
       "    </tr>\n",
       "    <tr>\n",
       "      <th>7</th>\n",
       "      <td>media_type</td>\n",
       "      <td>table</td>\n",
       "    </tr>\n",
       "    <tr>\n",
       "      <th>8</th>\n",
       "      <td>playlist</td>\n",
       "      <td>table</td>\n",
       "    </tr>\n",
       "    <tr>\n",
       "      <th>9</th>\n",
       "      <td>playlist_track</td>\n",
       "      <td>table</td>\n",
       "    </tr>\n",
       "    <tr>\n",
       "      <th>10</th>\n",
       "      <td>track</td>\n",
       "      <td>table</td>\n",
       "    </tr>\n",
       "  </tbody>\n",
       "</table>\n",
       "</div>"
      ],
      "text/plain": [
       "              name   type\n",
       "0            album  table\n",
       "1           artist  table\n",
       "2         customer  table\n",
       "3         employee  table\n",
       "4            genre  table\n",
       "5          invoice  table\n",
       "6     invoice_line  table\n",
       "7       media_type  table\n",
       "8         playlist  table\n",
       "9   playlist_track  table\n",
       "10           track  table"
      ]
     },
     "execution_count": 3,
     "metadata": {},
     "output_type": "execute_result"
    }
   ],
   "source": [
    "show_tables()"
   ]
  },
  {
   "cell_type": "code",
   "execution_count": 170,
   "metadata": {
    "collapsed": false
   },
   "outputs": [
    {
     "data": {
      "text/html": [
       "<div>\n",
       "<table border=\"1\" class=\"dataframe\">\n",
       "  <thead>\n",
       "    <tr style=\"text-align: right;\">\n",
       "      <th></th>\n",
       "      <th>name</th>\n",
       "      <th>total_sold</th>\n",
       "      <th>percent</th>\n",
       "    </tr>\n",
       "  </thead>\n",
       "  <tbody>\n",
       "    <tr>\n",
       "      <th>0</th>\n",
       "      <td>Rock</td>\n",
       "      <td>561</td>\n",
       "      <td>53.38</td>\n",
       "    </tr>\n",
       "    <tr>\n",
       "      <th>1</th>\n",
       "      <td>Alternative &amp; Punk</td>\n",
       "      <td>130</td>\n",
       "      <td>12.37</td>\n",
       "    </tr>\n",
       "    <tr>\n",
       "      <th>2</th>\n",
       "      <td>Metal</td>\n",
       "      <td>124</td>\n",
       "      <td>11.80</td>\n",
       "    </tr>\n",
       "    <tr>\n",
       "      <th>3</th>\n",
       "      <td>R&amp;B/Soul</td>\n",
       "      <td>53</td>\n",
       "      <td>5.04</td>\n",
       "    </tr>\n",
       "    <tr>\n",
       "      <th>4</th>\n",
       "      <td>Blues</td>\n",
       "      <td>36</td>\n",
       "      <td>3.43</td>\n",
       "    </tr>\n",
       "    <tr>\n",
       "      <th>5</th>\n",
       "      <td>Alternative</td>\n",
       "      <td>35</td>\n",
       "      <td>3.33</td>\n",
       "    </tr>\n",
       "    <tr>\n",
       "      <th>6</th>\n",
       "      <td>Latin</td>\n",
       "      <td>22</td>\n",
       "      <td>2.09</td>\n",
       "    </tr>\n",
       "    <tr>\n",
       "      <th>7</th>\n",
       "      <td>Pop</td>\n",
       "      <td>22</td>\n",
       "      <td>2.09</td>\n",
       "    </tr>\n",
       "    <tr>\n",
       "      <th>8</th>\n",
       "      <td>Hip Hop/Rap</td>\n",
       "      <td>20</td>\n",
       "      <td>1.90</td>\n",
       "    </tr>\n",
       "    <tr>\n",
       "      <th>9</th>\n",
       "      <td>Jazz</td>\n",
       "      <td>14</td>\n",
       "      <td>1.33</td>\n",
       "    </tr>\n",
       "    <tr>\n",
       "      <th>10</th>\n",
       "      <td>Easy Listening</td>\n",
       "      <td>13</td>\n",
       "      <td>1.24</td>\n",
       "    </tr>\n",
       "    <tr>\n",
       "      <th>11</th>\n",
       "      <td>Reggae</td>\n",
       "      <td>6</td>\n",
       "      <td>0.57</td>\n",
       "    </tr>\n",
       "    <tr>\n",
       "      <th>12</th>\n",
       "      <td>Electronica/Dance</td>\n",
       "      <td>5</td>\n",
       "      <td>0.48</td>\n",
       "    </tr>\n",
       "    <tr>\n",
       "      <th>13</th>\n",
       "      <td>Classical</td>\n",
       "      <td>4</td>\n",
       "      <td>0.38</td>\n",
       "    </tr>\n",
       "    <tr>\n",
       "      <th>14</th>\n",
       "      <td>Heavy Metal</td>\n",
       "      <td>3</td>\n",
       "      <td>0.29</td>\n",
       "    </tr>\n",
       "    <tr>\n",
       "      <th>15</th>\n",
       "      <td>Soundtrack</td>\n",
       "      <td>2</td>\n",
       "      <td>0.19</td>\n",
       "    </tr>\n",
       "    <tr>\n",
       "      <th>16</th>\n",
       "      <td>TV Shows</td>\n",
       "      <td>1</td>\n",
       "      <td>0.10</td>\n",
       "    </tr>\n",
       "  </tbody>\n",
       "</table>\n",
       "</div>"
      ],
      "text/plain": [
       "                  name  total_sold  percent\n",
       "0                 Rock         561    53.38\n",
       "1   Alternative & Punk         130    12.37\n",
       "2                Metal         124    11.80\n",
       "3             R&B/Soul          53     5.04\n",
       "4                Blues          36     3.43\n",
       "5          Alternative          35     3.33\n",
       "6                Latin          22     2.09\n",
       "7                  Pop          22     2.09\n",
       "8          Hip Hop/Rap          20     1.90\n",
       "9                 Jazz          14     1.33\n",
       "10      Easy Listening          13     1.24\n",
       "11              Reggae           6     0.57\n",
       "12   Electronica/Dance           5     0.48\n",
       "13           Classical           4     0.38\n",
       "14         Heavy Metal           3     0.29\n",
       "15          Soundtrack           2     0.19\n",
       "16            TV Shows           1     0.10"
      ]
     },
     "execution_count": 170,
     "metadata": {},
     "output_type": "execute_result"
    }
   ],
   "source": [
    "#first query finds total_sold by genre\n",
    "q =(\n",
    "\"SELECT g.name, \" \n",
    "\"sum(il.quantity) total_sold, \"\n",
    "\"ROUND((sum(CAST(il.quantity as FLOAT))/\"\n",
    "\"(SELECT sum(il.quantity) \"\n",
    "\"FROM invoice_line il \" \n",
    "\"INNER JOIN invoice i on i.invoice_id = il.invoice_id \"\n",
    "\"WHERE i.billing_country = 'USA') * 100), 2) percent \"\n",
    "\"FROM invoice_line il \"\n",
    "\"INNER JOIN invoice i ON i.invoice_id = il.invoice_id \"\n",
    "\"INNER JOIN track t ON t.track_id = il.track_id \" \n",
    "\"INNER JOIN genre g ON g.genre_id = t.genre_id \"\n",
    "\"WHERE i.billing_country = 'USA'\"\n",
    "\"GROUP BY g.name \" \n",
    "\"ORDER BY total_sold DESC \"\n",
    ") \n",
    "\n",
    "genre_sales_usa = run_query(q)\n",
    "\n",
    "run_query(q)\n",
    "\n"
   ]
  },
  {
   "cell_type": "code",
   "execution_count": 167,
   "metadata": {
    "collapsed": false
   },
   "outputs": [
    {
     "data": {
      "text/plain": [
       "<matplotlib.axes._subplots.AxesSubplot at 0x7f792d25ccc0>"
      ]
     },
     "execution_count": 167,
     "metadata": {},
     "output_type": "execute_result"
    },
    {
     "data": {
      "image/png": "[encoded data removed]",
      "text/plain": [
       "<matplotlib.figure.Figure at 0x7f792d26e908>"
      ]
     },
     "metadata": {},
     "output_type": "display_data"
    }
   ],
   "source": [
    "#sets index on original df and then plots\n",
    "genre_sales_usa.set_index(\"name\",drop=True,inplace=True)\n",
    "genre_sales_usa[\"total_sold\"].plot.bar(title= \"Total Sold by Genre\")"
   ]
  },
  {
   "cell_type": "markdown",
   "metadata": {},
   "source": [
    "Rock outnumbers the rest of the genres at 53% of US sales. The second most bought genre is Alternative Rock at 12.3%."
   ]
  },
  {
   "cell_type": "code",
   "execution_count": 171,
   "metadata": {
    "collapsed": false
   },
   "outputs": [
    {
     "data": {
      "text/html": [
       "<div>\n",
       "<table border=\"1\" class=\"dataframe\">\n",
       "  <thead>\n",
       "    <tr style=\"text-align: right;\">\n",
       "      <th></th>\n",
       "      <th>sales_rep</th>\n",
       "      <th>total_sales</th>\n",
       "      <th>hire_date</th>\n",
       "    </tr>\n",
       "  </thead>\n",
       "  <tbody>\n",
       "    <tr>\n",
       "      <th>0</th>\n",
       "      <td>Jane Peacock</td>\n",
       "      <td>1731.51</td>\n",
       "      <td>2017-04-01 00:00:00</td>\n",
       "    </tr>\n",
       "    <tr>\n",
       "      <th>1</th>\n",
       "      <td>Margaret Park</td>\n",
       "      <td>1584.00</td>\n",
       "      <td>2017-05-03 00:00:00</td>\n",
       "    </tr>\n",
       "    <tr>\n",
       "      <th>2</th>\n",
       "      <td>Steve Johnson</td>\n",
       "      <td>1393.92</td>\n",
       "      <td>2017-10-17 00:00:00</td>\n",
       "    </tr>\n",
       "  </tbody>\n",
       "</table>\n",
       "</div>"
      ],
      "text/plain": [
       "       sales_rep  total_sales            hire_date\n",
       "0   Jane Peacock      1731.51  2017-04-01 00:00:00\n",
       "1  Margaret Park      1584.00  2017-05-03 00:00:00\n",
       "2  Steve Johnson      1393.92  2017-10-17 00:00:00"
      ]
     },
     "execution_count": 171,
     "metadata": {},
     "output_type": "execute_result"
    }
   ],
   "source": [
    "#query finds total_sales by sale rep\n",
    "q2 = (\n",
    "\"SELECT \"\n",
    "\" e.first_name || ' ' || e.last_name sales_rep, \"\n",
    "\" sum(i.total) total_sales, \"\n",
    "\"e.hire_date \"\n",
    "\"FROM employee e \" \n",
    "\"INNER JOIN customer c ON c.support_rep_id = e.employee_id \"\n",
    "\"INNER JOIN invoice i on i.customer_id = c.customer_id \"\n",
    "\"GROUP BY e.employee_id\"    \n",
    ")\n",
    "\n",
    "genre_sales_usa = run_query(q2)\n",
    "\n",
    "run_query(q2)"
   ]
  },
  {
   "cell_type": "code",
   "execution_count": 172,
   "metadata": {
    "collapsed": false
   },
   "outputs": [
    {
     "data": {
      "text/plain": [
       "<matplotlib.axes._subplots.AxesSubplot at 0x7f792d16a5f8>"
      ]
     },
     "execution_count": 172,
     "metadata": {},
     "output_type": "execute_result"
    },
    {
     "data": {
      "image/png": "[encoded data removed]",
      "text/plain": [
       "<matplotlib.figure.Figure at 0x7f792d184f60>"
      ]
     },
     "metadata": {},
     "output_type": "display_data"
    }
   ],
   "source": [
    "# set index and plot total sales by sale rep\n",
    "genre_sales_usa.set_index(\"sales_rep\").plot.bar(title=\"Total Sales by Sales Rep\")"
   ]
  },
  {
   "cell_type": "markdown",
   "metadata": {},
   "source": [
    "Jane Peacock is the highest sales person with a total of $1731.51. The other sales reps are also performing really well. Jane Peacock selling more may be due to her earlier start date at the company."
   ]
  },
  {
   "cell_type": "code",
   "execution_count": 173,
   "metadata": {
    "collapsed": false
   },
   "outputs": [
    {
     "data": {
      "text/html": [
       "<div>\n",
       "<table border=\"1\" class=\"dataframe\">\n",
       "  <thead>\n",
       "    <tr style=\"text-align: right;\">\n",
       "      <th></th>\n",
       "      <th>total_sales</th>\n",
       "      <th>avg_sale</th>\n",
       "      <th>total_customers</th>\n",
       "      <th>country</th>\n",
       "    </tr>\n",
       "  </thead>\n",
       "  <tbody>\n",
       "    <tr>\n",
       "      <th>0</th>\n",
       "      <td>1094.94</td>\n",
       "      <td>7.445071</td>\n",
       "      <td>15</td>\n",
       "      <td>Other</td>\n",
       "    </tr>\n",
       "    <tr>\n",
       "      <th>1</th>\n",
       "      <td>1040.49</td>\n",
       "      <td>8.014750</td>\n",
       "      <td>13</td>\n",
       "      <td>USA</td>\n",
       "    </tr>\n",
       "    <tr>\n",
       "      <th>2</th>\n",
       "      <td>535.59</td>\n",
       "      <td>7.416238</td>\n",
       "      <td>8</td>\n",
       "      <td>Canada</td>\n",
       "    </tr>\n",
       "    <tr>\n",
       "      <th>3</th>\n",
       "      <td>427.68</td>\n",
       "      <td>6.987485</td>\n",
       "      <td>5</td>\n",
       "      <td>Brazil</td>\n",
       "    </tr>\n",
       "    <tr>\n",
       "      <th>4</th>\n",
       "      <td>389.07</td>\n",
       "      <td>7.835000</td>\n",
       "      <td>5</td>\n",
       "      <td>France</td>\n",
       "    </tr>\n",
       "    <tr>\n",
       "      <th>5</th>\n",
       "      <td>334.62</td>\n",
       "      <td>8.188750</td>\n",
       "      <td>4</td>\n",
       "      <td>Germany</td>\n",
       "    </tr>\n",
       "    <tr>\n",
       "      <th>6</th>\n",
       "      <td>273.24</td>\n",
       "      <td>9.377500</td>\n",
       "      <td>2</td>\n",
       "      <td>Czech Republic</td>\n",
       "    </tr>\n",
       "    <tr>\n",
       "      <th>7</th>\n",
       "      <td>245.52</td>\n",
       "      <td>8.749583</td>\n",
       "      <td>3</td>\n",
       "      <td>United Kingdom</td>\n",
       "    </tr>\n",
       "    <tr>\n",
       "      <th>8</th>\n",
       "      <td>185.13</td>\n",
       "      <td>6.527813</td>\n",
       "      <td>2</td>\n",
       "      <td>Portugal</td>\n",
       "    </tr>\n",
       "    <tr>\n",
       "      <th>9</th>\n",
       "      <td>183.15</td>\n",
       "      <td>8.757692</td>\n",
       "      <td>2</td>\n",
       "      <td>India</td>\n",
       "    </tr>\n",
       "  </tbody>\n",
       "</table>\n",
       "</div>"
      ],
      "text/plain": [
       "   total_sales  avg_sale  total_customers         country\n",
       "0      1094.94  7.445071               15           Other\n",
       "1      1040.49  8.014750               13             USA\n",
       "2       535.59  7.416238                8          Canada\n",
       "3       427.68  6.987485                5          Brazil\n",
       "4       389.07  7.835000                5          France\n",
       "5       334.62  8.188750                4         Germany\n",
       "6       273.24  9.377500                2  Czech Republic\n",
       "7       245.52  8.749583                3  United Kingdom\n",
       "8       185.13  6.527813                2        Portugal\n",
       "9       183.15  8.757692                2           India"
      ]
     },
     "execution_count": 173,
     "metadata": {},
     "output_type": "execute_result"
    }
   ],
   "source": [
    "# query that groups customers by country\n",
    "q3 = '''\n",
    "WITH i_totals AS \n",
    "(\n",
    "SELECT \n",
    "    cs.customer_id id,\n",
    "    sum(i.total) total_sales,\n",
    "    avg(i.total) avg_cs_sale,\n",
    "    cs.country country\n",
    "FROM invoice i \n",
    "INNER JOIN customer cs ON cs.customer_id = i.customer_id\n",
    "GROUP BY cs.customer_id \n",
    "),\n",
    "\n",
    "totals_country AS\n",
    "(\n",
    "SELECT \n",
    "    sum(total_sales) sales,\n",
    "    AVG(avg_cs_sale) avg_sale,\n",
    "    country,\n",
    "    count(id) total_customers,\n",
    "    CASE \n",
    "        WHEN count(id) = 1 THEN \"Other\"\n",
    "        ELSE country\n",
    "    END AS sort\n",
    "FROM i_totals\n",
    "GROUP BY country\n",
    "ORDER BY 1 DESC\n",
    ")\n",
    "\n",
    "SELECT \n",
    "    sum(sales) total_sales,\n",
    "    avg(avg_sale) avg_sale,\n",
    "    sum(total_customers) total_customers,\n",
    "    sort as country\n",
    "FROM totals_country\n",
    "GROUP BY sort \n",
    "ORDER BY total_sales DESC\n",
    "'''\n",
    "\n",
    "country_sales = run_query(q3)\n",
    "run_query(q3)"
   ]
  },
  {
   "cell_type": "code",
   "execution_count": 147,
   "metadata": {
    "collapsed": false
   },
   "outputs": [
    {
     "data": {
      "text/plain": [
       "<matplotlib.axes._subplots.AxesSubplot at 0x7f792d8b60b8>"
      ]
     },
     "execution_count": 147,
     "metadata": {},
     "output_type": "execute_result"
    },
    {
     "data": {
      "image/png": "[encoded data removed]",
      "text/plain": [
       "<matplotlib.figure.Figure at 0x7f792d8b2ef0>"
      ]
     },
     "metadata": {},
     "output_type": "display_data"
    }
   ],
   "source": [
    "country_sales.set_index(\"country\")[\"total_sales\"].plot.bar( title=\"Total Sales by Country\")"
   ]
  },
  {
   "cell_type": "code",
   "execution_count": 162,
   "metadata": {
    "collapsed": false
   },
   "outputs": [
    {
     "data": {
      "text/plain": [
       "<matplotlib.axes._subplots.AxesSubplot at 0x7f792d456588>"
      ]
     },
     "execution_count": 162,
     "metadata": {},
     "output_type": "execute_result"
    },
    {
     "data": {
      "image/png": "[encoded data removed]",
      "text/plain": [
       "<matplotlib.figure.Figure at 0x7f792d42b9b0>"
      ]
     },
     "metadata": {},
     "output_type": "display_data"
    }
   ],
   "source": [
    "#sets index and plotting total customers\n",
    "country_sales.set_index(\"country\")[\"total_customers\"].plot.bar(title=\"Total Customers by Country\")"
   ]
  },
  {
   "cell_type": "markdown",
   "metadata": {},
   "source": [
    "The countries in the category Other had the most sales at 1094. \n",
    "The USA followed in second at 1040. "
   ]
  },
  {
   "cell_type": "code",
   "execution_count": 165,
   "metadata": {
    "collapsed": false
   },
   "outputs": [
    {
     "data": {
      "text/plain": [
       "<matplotlib.axes._subplots.AxesSubplot at 0x7f792d2ed550>"
      ]
     },
     "execution_count": 165,
     "metadata": {},
     "output_type": "execute_result"
    },
    {
     "data": {
      "image/png": "[encoded data removed]",
      "text/plain": [
       "<matplotlib.figure.Figure at 0x7f792d2c07f0>"
      ]
     },
     "metadata": {},
     "output_type": "display_data"
    }
   ],
   "source": [
    "#sets index and plots avg_sale\n",
    "country_sales.set_index(\"country\")[\"avg_sale\"].plot.bar(title=\"AVG Sales by Country\")"
   ]
  },
  {
   "cell_type": "markdown",
   "metadata": {},
   "source": [
    "In terms of growth, it may be worthwhile to push for countries where the average sale and customer number is high. For example, the Czech Republic has a low number of customers but a high average sale amount. "
   ]
  },
  {
   "cell_type": "code",
   "execution_count": null,
   "metadata": {
    "collapsed": false
   },
   "outputs": [],
   "source": [
    "#create view of tracks not bought\n",
    "q5 = '''\n",
    "CREATE VIEW track_nb AS\n",
    "    SELECT \n",
    "        track_id\n",
    "    FROM track \n",
    "    EXCEPT\n",
    "    SELECT track_id\n",
    "    FROM invoice_line\n",
    "'''\n",
    "\n",
    "\n",
    "run_command(q5)"
   ]
  },
  {
   "cell_type": "code",
   "execution_count": 9,
   "metadata": {
    "collapsed": false
   },
   "outputs": [
    {
     "data": {
      "text/html": [
       "<div>\n",
       "<table border=\"1\" class=\"dataframe\">\n",
       "  <thead>\n",
       "    <tr style=\"text-align: right;\">\n",
       "      <th></th>\n",
       "      <th>name</th>\n",
       "      <th>type</th>\n",
       "    </tr>\n",
       "  </thead>\n",
       "  <tbody>\n",
       "    <tr>\n",
       "      <th>0</th>\n",
       "      <td>album</td>\n",
       "      <td>table</td>\n",
       "    </tr>\n",
       "    <tr>\n",
       "      <th>1</th>\n",
       "      <td>artist</td>\n",
       "      <td>table</td>\n",
       "    </tr>\n",
       "    <tr>\n",
       "      <th>2</th>\n",
       "      <td>customer</td>\n",
       "      <td>table</td>\n",
       "    </tr>\n",
       "    <tr>\n",
       "      <th>3</th>\n",
       "      <td>employee</td>\n",
       "      <td>table</td>\n",
       "    </tr>\n",
       "    <tr>\n",
       "      <th>4</th>\n",
       "      <td>genre</td>\n",
       "      <td>table</td>\n",
       "    </tr>\n",
       "    <tr>\n",
       "      <th>5</th>\n",
       "      <td>invoice</td>\n",
       "      <td>table</td>\n",
       "    </tr>\n",
       "    <tr>\n",
       "      <th>6</th>\n",
       "      <td>invoice_line</td>\n",
       "      <td>table</td>\n",
       "    </tr>\n",
       "    <tr>\n",
       "      <th>7</th>\n",
       "      <td>media_type</td>\n",
       "      <td>table</td>\n",
       "    </tr>\n",
       "    <tr>\n",
       "      <th>8</th>\n",
       "      <td>playlist</td>\n",
       "      <td>table</td>\n",
       "    </tr>\n",
       "    <tr>\n",
       "      <th>9</th>\n",
       "      <td>playlist_track</td>\n",
       "      <td>table</td>\n",
       "    </tr>\n",
       "    <tr>\n",
       "      <th>10</th>\n",
       "      <td>track</td>\n",
       "      <td>table</td>\n",
       "    </tr>\n",
       "    <tr>\n",
       "      <th>11</th>\n",
       "      <td>track_nb</td>\n",
       "      <td>view</td>\n",
       "    </tr>\n",
       "    <tr>\n",
       "      <th>12</th>\n",
       "      <td>album_nb</td>\n",
       "      <td>view</td>\n",
       "    </tr>\n",
       "  </tbody>\n",
       "</table>\n",
       "</div>"
      ],
      "text/plain": [
       "              name   type\n",
       "0            album  table\n",
       "1           artist  table\n",
       "2         customer  table\n",
       "3         employee  table\n",
       "4            genre  table\n",
       "5          invoice  table\n",
       "6     invoice_line  table\n",
       "7       media_type  table\n",
       "8         playlist  table\n",
       "9   playlist_track  table\n",
       "10           track  table\n",
       "11        track_nb   view\n",
       "12        album_nb   view"
      ]
     },
     "execution_count": 9,
     "metadata": {},
     "output_type": "execute_result"
    }
   ],
   "source": [
    "#checking tables \n",
    "show_tables()"
   ]
  },
  {
   "cell_type": "code",
   "execution_count": null,
   "metadata": {
    "collapsed": false
   },
   "outputs": [],
   "source": [
    "#creates view of albums not bought entirely \n",
    "q6='''\n",
    "CREATE VIEW album_nb AS\n",
    "    SELECT \n",
    "        DISTINCT(album_id) \n",
    "    FROM track\n",
    "    INNER JOIN track_nb ON track_nb.track_id = track.track_id;\n",
    "'''\n",
    "run_command(q6)\n",
    "\n"
   ]
  },
  {
   "cell_type": "code",
   "execution_count": 21,
   "metadata": {
    "collapsed": false
   },
   "outputs": [],
   "source": [
    "# view determines album versus track purchases using the albums not purchased view\n",
    "q7 = '''\n",
    "CREATE VIEW type_of_buy AS\n",
    "    SELECT \n",
    "        invoice_id,\n",
    "        t.album_id,\n",
    "        t.track_id,\n",
    "        CASE WHEN t.album_id IN (SELECT * FROM album_nb) THEN \"Partial Buy\"\n",
    "        ELSE \"Full Buy\"\n",
    "        END AS type_of_buy\n",
    "    FROM invoice_line il\n",
    "    INNER JOIN track t ON t.track_id = il.track_id\n",
    "'''\n",
    "run_command(q7)"
   ]
  },
  {
   "cell_type": "code",
   "execution_count": 31,
   "metadata": {
    "collapsed": false
   },
   "outputs": [
    {
     "data": {
      "text/html": [
       "<div>\n",
       "<table border=\"1\" class=\"dataframe\">\n",
       "  <thead>\n",
       "    <tr style=\"text-align: right;\">\n",
       "      <th></th>\n",
       "      <th>type_of_buy</th>\n",
       "      <th>count</th>\n",
       "      <th>percent</th>\n",
       "    </tr>\n",
       "  </thead>\n",
       "  <tbody>\n",
       "    <tr>\n",
       "      <th>0</th>\n",
       "      <td>Full Buy</td>\n",
       "      <td>3752</td>\n",
       "      <td>78.873239</td>\n",
       "    </tr>\n",
       "    <tr>\n",
       "      <th>1</th>\n",
       "      <td>Partial Buy</td>\n",
       "      <td>1005</td>\n",
       "      <td>21.126761</td>\n",
       "    </tr>\n",
       "  </tbody>\n",
       "</table>\n",
       "</div>"
      ],
      "text/plain": [
       "   type_of_buy  count    percent\n",
       "0     Full Buy   3752  78.873239\n",
       "1  Partial Buy   1005  21.126761"
      ]
     },
     "execution_count": 31,
     "metadata": {},
     "output_type": "execute_result"
    }
   ],
   "source": [
    "#query to count the types of purchases \n",
    "q8 = '''\n",
    "SELECT \n",
    "    type_of_buy,\n",
    "    count(type_of_buy) count,\n",
    "    (CAST(count(type_of_buy) as float)/4757)*100 percent\n",
    "FROM type_of_buy\n",
    "GROUP BY type_of_buy\n",
    "'''\n",
    "run_query(q8)"
   ]
  },
  {
   "cell_type": "markdown",
   "metadata": {},
   "source": [
    "Most of the purchases are full album ones at 78%. Based of these findings, it makes sense to still purchase full albums from record companies."
   ]
  },
  {
   "cell_type": "code",
   "execution_count": null,
   "metadata": {
    "collapsed": true
   },
   "outputs": [],
   "source": []
  }
 ],
 "metadata": {
  "kernelspec": {
   "display_name": "Python 3",
   "language": "python",
   "name": "python3"
  },
  "language_info": {
   "codemirror_mode": {
    "name": "ipython",
    "version": 3
   },
   "file_extension": ".py",
   "mimetype": "text/x-python",
   "name": "python",
   "nbconvert_exporter": "python",
   "pygments_lexer": "ipython3",
   "version": "3.4.3"
  }
 },
 "nbformat": 4,
 "nbformat_minor": 2
}
