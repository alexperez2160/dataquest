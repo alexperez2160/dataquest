{
 "cells": [
  {
   "cell_type": "markdown",
   "metadata": {
    "collapsed": true
   },
   "source": [
    "# Import the data"
   ]
  },
  {
   "cell_type": "code",
   "execution_count": 180,
   "metadata": {},
   "outputs": [],
   "source": [
    "#read in the data \n",
    "\n",
    "import pandas as pd\n",
    "star_wars = pd.read_csv(\"data/star_wars.csv\", encoding=\"ISO-8859-1\")\n"
   ]
  },
  {
   "cell_type": "code",
   "execution_count": 181,
   "metadata": {},
   "outputs": [],
   "source": [
    "# remove NA \n",
    "\n",
    "star_wars = star_wars[star_wars['RespondentID'].notnull()]\n"
   ]
  },
  {
   "cell_type": "code",
   "execution_count": 182,
   "metadata": {},
   "outputs": [],
   "source": [
    "#clean up yes/ no response \n",
    "\n",
    "yes_no = {\n",
    "    \"Yes\": True,\n",
    "    \"No\": False\n",
    "}\n",
    "\n",
    "star_wars['Have you seen any of the 6 films in the Star Wars franchise?'] = star_wars['Have you seen any of the 6 films in the Star Wars franchise?'].map(yes_no)\n",
    "\n",
    "star_wars['Do you consider yourself to be a fan of the Star Wars film franchise?'] = star_wars['Do you consider yourself to be a fan of the Star Wars film franchise?'].map(yes_no)\n"
   ]
  },
  {
   "cell_type": "markdown",
   "metadata": {},
   "source": [
    "# Clean up Ranking Columns"
   ]
  },
  {
   "cell_type": "code",
   "execution_count": 183,
   "metadata": {},
   "outputs": [],
   "source": [
    "# clean up movie columns and value\n",
    "\n",
    "cols = star_wars.columns[3:9]\n",
    "\n",
    "films = ['Star Wars: Episode I  The Phantom Menace', 'Star Wars: Episode II  Attack of the Clones', 'Star Wars: Episode III  Revenge of the Sith','Star Wars: Episode IV  A New Hope', 'Star Wars: Episode V The Empire Strikes Back','Star Wars: Episode VI Return of the Jedi']\n",
    "\n",
    "for index, value in enumerate(cols):\n",
    "    star_wars[value] = star_wars[value].map({films[index]: True, None: False})\n",
    "\n"
   ]
  },
  {
   "cell_type": "code",
   "execution_count": 184,
   "metadata": {},
   "outputs": [],
   "source": [
    "new_cols = {}\n",
    "for index, value in enumerate(cols): \n",
    "    new_cols[value] = \"seen_\"+ str(index+1)\n",
    "\n",
    "star_wars = star_wars.rename(columns= new_cols)\n"
   ]
  },
  {
   "cell_type": "code",
   "execution_count": 185,
   "metadata": {},
   "outputs": [],
   "source": [
    "# change column type to float \n",
    "\n",
    "star_wars[star_wars.columns[9:15]] = star_wars[star_wars.columns[9:15]].astype(float)\n",
    "\n",
    "\n"
   ]
  },
  {
   "cell_type": "code",
   "execution_count": 186,
   "metadata": {},
   "outputs": [],
   "source": [
    "cols = star_wars.columns[9:15]\n",
    "\n",
    "new_cols = {}\n",
    "\n",
    "for index, value in enumerate(cols): \n",
    "    new_cols[value] = \"ranking_\"+ str(index+1)\n",
    "\n",
    "star_wars = star_wars.rename(columns = new_cols)\n"
   ]
  },
  {
   "cell_type": "markdown",
   "metadata": {},
   "source": [
    "# Investigate Ranking of Star Wars Movies"
   ]
  },
  {
   "cell_type": "code",
   "execution_count": 187,
   "metadata": {},
   "outputs": [
    {
     "data": {
      "text/plain": [
       "<matplotlib.axes._subplots.AxesSubplot at 0x112f8ba58>"
      ]
     },
     "execution_count": 187,
     "metadata": {},
     "output_type": "execute_result"
    },
    {
     "data": {
      "image/png": "[encoded data removed]",
      "text/plain": [
       "<matplotlib.figure.Figure at 0x113047c88>"
      ]
     },
     "metadata": {},
     "output_type": "display_data"
    }
   ],
   "source": [
    "%matplotlib inline \n",
    "\n",
    "star_wars.iloc[:,9:15].mean().plot.bar()"
   ]
  },
  {
   "cell_type": "markdown",
   "metadata": {},
   "source": [
    "Most respondents thought that THE EMPIRE STRIKES BACK was the best Star Wars movie. The survey illustrates that the original films are more popular than the latest trilogy."
   ]
  },
  {
   "cell_type": "markdown",
   "metadata": {},
   "source": [
    "# Investigate Seen Star Wars Movies"
   ]
  },
  {
   "cell_type": "code",
   "execution_count": 188,
   "metadata": {},
   "outputs": [
    {
     "data": {
      "text/plain": [
       "<matplotlib.axes._subplots.AxesSubplot at 0x113090240>"
      ]
     },
     "execution_count": 188,
     "metadata": {},
     "output_type": "execute_result"
    },
    {
     "data": {
      "image/png": "[encoded data removed]",
      "text/plain": [
       "<matplotlib.figure.Figure at 0x112f9bc50>"
      ]
     },
     "metadata": {},
     "output_type": "display_data"
    }
   ],
   "source": [
    "star_wars.iloc[:,3:9].sum().plot.bar()"
   ]
  },
  {
   "cell_type": "markdown",
   "metadata": {},
   "source": [
    "Most people have seen the old Star Wars trilogy when compared to the new ones. The data would suggest that interest may have fallen after the first new Star Wars was released."
   ]
  },
  {
   "cell_type": "markdown",
   "metadata": {},
   "source": [
    "# Investigate gender differences"
   ]
  },
  {
   "cell_type": "code",
   "execution_count": 189,
   "metadata": {
    "collapsed": true
   },
   "outputs": [],
   "source": [
    "males = star_wars[star_wars[\"Gender\"] == \"Male\"]\n",
    "female = star_wars[star_wars[\"Gender\"]== \"Female\"]"
   ]
  },
  {
   "cell_type": "code",
   "execution_count": 233,
   "metadata": {},
   "outputs": [
    {
     "data": {
      "text/plain": [
       "Text(1,1,'Female Mean Ranking')"
      ]
     },
     "execution_count": 233,
     "metadata": {},
     "output_type": "execute_result"
    },
    {
     "data": {
      "image/png": "[encoded data removed]",
      "text/plain": [
       "<matplotlib.figure.Figure at 0x10de84940>"
      ]
     },
     "metadata": {},
     "output_type": "display_data"
    }
   ],
   "source": [
    "import matplotlib.pyplot as plt\n",
    "\n",
    "\n",
    "\n",
    "bar_locations = star_wars.columns[9:15]\n",
    "\n",
    "fig, ax = plt.subplots(2)\n",
    "\n",
    "ax[0].bar(bar_locations, males.iloc[:, 9:15].mean())\n",
    "ax[0].set_title(\"Male Mean Ranking\", loc='right')\n",
    "ax[1].bar(bar_locations, female.iloc[:, 9:15].mean())\n",
    "fig.subplots_adjust(hspace=.5)\n",
    "ax[1].set_title(\"Female Mean Ranking\", loc='right')\n",
    "\n"
   ]
  },
  {
   "cell_type": "markdown",
   "metadata": {},
   "source": [
    "The original Star Wars Trilogy was more popular among men and women than the new trilogy. Moreover, THE EMPIRE STRIKES BACK still seems to be the most popular even when stratified by gender. "
   ]
  },
  {
   "cell_type": "code",
   "execution_count": 234,
   "metadata": {},
   "outputs": [
    {
     "data": {
      "text/plain": [
       "Text(1,1,'Female Seen Sum')"
      ]
     },
     "execution_count": 234,
     "metadata": {},
     "output_type": "execute_result"
    },
    {
     "data": {
      "image/png": "[encoded data removed]",
      "text/plain": [
       "<matplotlib.figure.Figure at 0x117cd7b38>"
      ]
     },
     "metadata": {},
     "output_type": "display_data"
    }
   ],
   "source": [
    "bar_locations = star_wars.columns[3:9]\n",
    "\n",
    "fig, ax = plt.subplots(2)\n",
    "\n",
    "ax[0].bar(bar_locations, males.iloc[:, 3:9].sum())\n",
    "ax[0].set_title(\"Male Seen Sum\", loc='right')\n",
    "ax[1].bar(bar_locations, female.iloc[:, 3:9].sum())\n",
    "fig.subplots_adjust(hspace=.5)\n",
    "ax[1].set_title(\"Female Seen Sum\", loc='right')"
   ]
  },
  {
   "cell_type": "markdown",
   "metadata": {},
   "source": [
    "Overall, men have seen more of the Star Wars trilogies compared to women. Overall, men and women have seen the old trilogies more than the new one."
   ]
  },
  {
   "cell_type": "code",
   "execution_count": null,
   "metadata": {
    "collapsed": true
   },
   "outputs": [],
   "source": []
  }
 ],
 "metadata": {
  "kernelspec": {
   "display_name": "Python 3",
   "language": "python",
   "name": "python3"
  },
  "language_info": {
   "codemirror_mode": {
    "name": "ipython",
    "version": 3
   },
   "file_extension": ".py",
   "mimetype": "text/x-python",
   "name": "python",
   "nbconvert_exporter": "python",
   "pygments_lexer": "ipython3",
   "version": "3.6.3"
  }
 },
 "nbformat": 4,
 "nbformat_minor": 1
}
