{
 "cells": [
  {
   "cell_type": "code",
   "execution_count": 1,
   "metadata": {
    "collapsed": true
   },
   "outputs": [],
   "source": [
    "import pandas as pd \n",
    "import matplotlib as plt \n",
    "\n",
    "super_bowl = pd.read_csv(\"Super_Bowl.csv\")"
   ]
  },
  {
   "cell_type": "code",
   "execution_count": 2,
   "metadata": {},
   "outputs": [
    {
     "data": {
      "text/html": [
       "<div>\n",
       "<style>\n",
       "    .dataframe thead tr:only-child th {\n",
       "        text-align: right;\n",
       "    }\n",
       "\n",
       "    .dataframe thead th {\n",
       "        text-align: left;\n",
       "    }\n",
       "\n",
       "    .dataframe tbody tr th {\n",
       "        vertical-align: top;\n",
       "    }\n",
       "</style>\n",
       "<table border=\"1\" class=\"dataframe\">\n",
       "  <thead>\n",
       "    <tr style=\"text-align: right;\">\n",
       "      <th></th>\n",
       "      <th>Date</th>\n",
       "      <th>SB</th>\n",
       "      <th>Attendance</th>\n",
       "      <th>QB  Winner</th>\n",
       "      <th>Coach Winner</th>\n",
       "      <th>Winner</th>\n",
       "      <th>Winning Pts</th>\n",
       "      <th>QB Loser</th>\n",
       "      <th>Coach Loser</th>\n",
       "      <th>Loser</th>\n",
       "      <th>...</th>\n",
       "      <th>City</th>\n",
       "      <th>State</th>\n",
       "      <th>Point Difference</th>\n",
       "      <th>Referee</th>\n",
       "      <th>Umpire</th>\n",
       "      <th>Head Linesman</th>\n",
       "      <th>Line Judge</th>\n",
       "      <th>Field Judge</th>\n",
       "      <th>Back Judge</th>\n",
       "      <th>Side Judge</th>\n",
       "    </tr>\n",
       "  </thead>\n",
       "  <tbody>\n",
       "    <tr>\n",
       "      <th>0</th>\n",
       "      <td>15-Jan-67</td>\n",
       "      <td>I</td>\n",
       "      <td>61946</td>\n",
       "      <td>Bart Starr</td>\n",
       "      <td>Vince Lombardi</td>\n",
       "      <td>Green Bay Packers</td>\n",
       "      <td>35</td>\n",
       "      <td>Len Dawson</td>\n",
       "      <td>Hank Stram</td>\n",
       "      <td>Kansas City Chiefs</td>\n",
       "      <td>...</td>\n",
       "      <td>Los Angeles</td>\n",
       "      <td>California</td>\n",
       "      <td>25</td>\n",
       "      <td>NaN</td>\n",
       "      <td>NaN</td>\n",
       "      <td>NaN</td>\n",
       "      <td>NaN</td>\n",
       "      <td>NaN</td>\n",
       "      <td>NaN</td>\n",
       "      <td>NaN</td>\n",
       "    </tr>\n",
       "    <tr>\n",
       "      <th>1</th>\n",
       "      <td>14-Jan-68</td>\n",
       "      <td>II</td>\n",
       "      <td>75546</td>\n",
       "      <td>Bart Starr</td>\n",
       "      <td>Vince Lombardi</td>\n",
       "      <td>Green Bay Packers</td>\n",
       "      <td>33</td>\n",
       "      <td>Daryle Lamonica</td>\n",
       "      <td>John Rauch</td>\n",
       "      <td>Oakland Raiders</td>\n",
       "      <td>...</td>\n",
       "      <td>Miami</td>\n",
       "      <td>Florida</td>\n",
       "      <td>19</td>\n",
       "      <td>NaN</td>\n",
       "      <td>NaN</td>\n",
       "      <td>NaN</td>\n",
       "      <td>NaN</td>\n",
       "      <td>NaN</td>\n",
       "      <td>NaN</td>\n",
       "      <td>NaN</td>\n",
       "    </tr>\n",
       "    <tr>\n",
       "      <th>2</th>\n",
       "      <td>12-Jan-69</td>\n",
       "      <td>III</td>\n",
       "      <td>75389</td>\n",
       "      <td>Joe Namath</td>\n",
       "      <td>Weeb Ewbank</td>\n",
       "      <td>New York Jets</td>\n",
       "      <td>16</td>\n",
       "      <td>Earl Morrall, Johnny Unitas</td>\n",
       "      <td>Don Shula</td>\n",
       "      <td>Baltimore Colts</td>\n",
       "      <td>...</td>\n",
       "      <td>Miami</td>\n",
       "      <td>Florida</td>\n",
       "      <td>9</td>\n",
       "      <td>NaN</td>\n",
       "      <td>NaN</td>\n",
       "      <td>NaN</td>\n",
       "      <td>NaN</td>\n",
       "      <td>NaN</td>\n",
       "      <td>NaN</td>\n",
       "      <td>NaN</td>\n",
       "    </tr>\n",
       "    <tr>\n",
       "      <th>3</th>\n",
       "      <td>11-Jan-70</td>\n",
       "      <td>IV</td>\n",
       "      <td>80562</td>\n",
       "      <td>Len Dawson, Mike Livingston</td>\n",
       "      <td>Hank Stram</td>\n",
       "      <td>Kansas City Chiefs</td>\n",
       "      <td>23</td>\n",
       "      <td>Joe Kapp</td>\n",
       "      <td>Bud Grant</td>\n",
       "      <td>Minnesota Vikings</td>\n",
       "      <td>...</td>\n",
       "      <td>New Orleans</td>\n",
       "      <td>Louisiana</td>\n",
       "      <td>16</td>\n",
       "      <td>NaN</td>\n",
       "      <td>NaN</td>\n",
       "      <td>NaN</td>\n",
       "      <td>NaN</td>\n",
       "      <td>NaN</td>\n",
       "      <td>NaN</td>\n",
       "      <td>NaN</td>\n",
       "    </tr>\n",
       "    <tr>\n",
       "      <th>4</th>\n",
       "      <td>17-Jan-71</td>\n",
       "      <td>V</td>\n",
       "      <td>79204</td>\n",
       "      <td>Earl Morrall , Johnny Unitas</td>\n",
       "      <td>Don McCafferty</td>\n",
       "      <td>Baltimore Colts</td>\n",
       "      <td>16</td>\n",
       "      <td>Craig Morton</td>\n",
       "      <td>Tom Landry</td>\n",
       "      <td>Dallas Cowboys</td>\n",
       "      <td>...</td>\n",
       "      <td>Miami</td>\n",
       "      <td>Florida</td>\n",
       "      <td>3</td>\n",
       "      <td>Norm Schachter</td>\n",
       "      <td>Paul Trepinski</td>\n",
       "      <td>Ed Marion</td>\n",
       "      <td>Jack Fette</td>\n",
       "      <td>Fritz Graf</td>\n",
       "      <td>Hugh Gamber</td>\n",
       "      <td>NaN</td>\n",
       "    </tr>\n",
       "  </tbody>\n",
       "</table>\n",
       "<p>5 rows × 23 columns</p>\n",
       "</div>"
      ],
      "text/plain": [
       "        Date   SB  Attendance                    QB  Winner    Coach Winner  \\\n",
       "0  15-Jan-67    I       61946                    Bart Starr  Vince Lombardi   \n",
       "1  14-Jan-68   II       75546                    Bart Starr  Vince Lombardi   \n",
       "2  12-Jan-69  III       75389                    Joe Namath     Weeb Ewbank   \n",
       "3  11-Jan-70   IV       80562   Len Dawson, Mike Livingston      Hank Stram   \n",
       "4  17-Jan-71    V       79204  Earl Morrall , Johnny Unitas  Don McCafferty   \n",
       "\n",
       "               Winner  Winning Pts                     QB Loser Coach Loser  \\\n",
       "0   Green Bay Packers           35                   Len Dawson  Hank Stram   \n",
       "1   Green Bay Packers           33             Daryle Lamonica   John Rauch   \n",
       "2       New York Jets           16  Earl Morrall, Johnny Unitas   Don Shula   \n",
       "3  Kansas City Chiefs           23                     Joe Kapp   Bud Grant   \n",
       "4     Baltimore Colts           16                 Craig Morton  Tom Landry   \n",
       "\n",
       "                Loser    ...             City       State Point Difference  \\\n",
       "0  Kansas City Chiefs    ...      Los Angeles  California               25   \n",
       "1     Oakland Raiders    ...            Miami     Florida               19   \n",
       "2     Baltimore Colts    ...            Miami     Florida                9   \n",
       "3   Minnesota Vikings    ...      New Orleans   Louisiana               16   \n",
       "4      Dallas Cowboys    ...            Miami     Florida                3   \n",
       "\n",
       "          Referee          Umpire  Head Linesman  Line Judge Field Judge  \\\n",
       "0             NaN             NaN            NaN         NaN         NaN   \n",
       "1             NaN             NaN            NaN         NaN         NaN   \n",
       "2             NaN             NaN            NaN         NaN         NaN   \n",
       "3             NaN             NaN            NaN         NaN         NaN   \n",
       "4  Norm Schachter  Paul Trepinski      Ed Marion  Jack Fette  Fritz Graf   \n",
       "\n",
       "    Back Judge Side Judge  \n",
       "0          NaN        NaN  \n",
       "1          NaN        NaN  \n",
       "2          NaN        NaN  \n",
       "3          NaN        NaN  \n",
       "4  Hugh Gamber        NaN  \n",
       "\n",
       "[5 rows x 23 columns]"
      ]
     },
     "execution_count": 2,
     "metadata": {},
     "output_type": "execute_result"
    }
   ],
   "source": [
    "super_bowl.head()"
   ]
  },
  {
   "cell_type": "code",
   "execution_count": 7,
   "metadata": {},
   "outputs": [
    {
     "data": {
      "text/plain": [
       "Index(['Date', 'SB', 'Attendance', 'QB  Winner', 'Coach Winner', 'Winner',\n",
       "       'Winning Pts', 'QB Loser', 'Coach Loser', 'Loser', 'Losing Pts', 'MVP',\n",
       "       'Stadium', 'City', 'State', 'Point Difference', 'Referee', 'Umpire',\n",
       "       'Head Linesman', 'Line Judge', 'Field Judge', 'Back Judge',\n",
       "       'Side Judge'],\n",
       "      dtype='object')"
      ]
     },
     "execution_count": 7,
     "metadata": {},
     "output_type": "execute_result"
    }
   ],
   "source": [
    "super_bowl.columns"
   ]
  },
  {
   "cell_type": "code",
   "execution_count": 8,
   "metadata": {},
   "outputs": [
    {
     "data": {
      "text/html": [
       "<div>\n",
       "<style>\n",
       "    .dataframe thead tr:only-child th {\n",
       "        text-align: right;\n",
       "    }\n",
       "\n",
       "    .dataframe thead th {\n",
       "        text-align: left;\n",
       "    }\n",
       "\n",
       "    .dataframe tbody tr th {\n",
       "        vertical-align: top;\n",
       "    }\n",
       "</style>\n",
       "<table border=\"1\" class=\"dataframe\">\n",
       "  <thead>\n",
       "    <tr style=\"text-align: right;\">\n",
       "      <th></th>\n",
       "      <th>Attendance</th>\n",
       "      <th>Winning Pts</th>\n",
       "      <th>Losing Pts</th>\n",
       "      <th>Point Difference</th>\n",
       "    </tr>\n",
       "  </thead>\n",
       "  <tbody>\n",
       "    <tr>\n",
       "      <th>count</th>\n",
       "      <td>51.000000</td>\n",
       "      <td>51.000000</td>\n",
       "      <td>51.000000</td>\n",
       "      <td>51.000000</td>\n",
       "    </tr>\n",
       "    <tr>\n",
       "      <th>mean</th>\n",
       "      <td>77648.960784</td>\n",
       "      <td>30.215686</td>\n",
       "      <td>16.058824</td>\n",
       "      <td>14.156863</td>\n",
       "    </tr>\n",
       "    <tr>\n",
       "      <th>std</th>\n",
       "      <td>10382.140535</td>\n",
       "      <td>9.636003</td>\n",
       "      <td>6.986878</td>\n",
       "      <td>10.561009</td>\n",
       "    </tr>\n",
       "    <tr>\n",
       "      <th>min</th>\n",
       "      <td>61946.000000</td>\n",
       "      <td>14.000000</td>\n",
       "      <td>3.000000</td>\n",
       "      <td>1.000000</td>\n",
       "    </tr>\n",
       "    <tr>\n",
       "      <th>25%</th>\n",
       "      <td>71703.500000</td>\n",
       "      <td>23.500000</td>\n",
       "      <td>10.000000</td>\n",
       "      <td>4.500000</td>\n",
       "    </tr>\n",
       "    <tr>\n",
       "      <th>50%</th>\n",
       "      <td>74107.000000</td>\n",
       "      <td>30.000000</td>\n",
       "      <td>17.000000</td>\n",
       "      <td>12.000000</td>\n",
       "    </tr>\n",
       "    <tr>\n",
       "      <th>75%</th>\n",
       "      <td>80374.500000</td>\n",
       "      <td>35.000000</td>\n",
       "      <td>21.000000</td>\n",
       "      <td>19.000000</td>\n",
       "    </tr>\n",
       "    <tr>\n",
       "      <th>max</th>\n",
       "      <td>103985.000000</td>\n",
       "      <td>55.000000</td>\n",
       "      <td>31.000000</td>\n",
       "      <td>45.000000</td>\n",
       "    </tr>\n",
       "  </tbody>\n",
       "</table>\n",
       "</div>"
      ],
      "text/plain": [
       "          Attendance  Winning Pts  Losing Pts  Point Difference\n",
       "count      51.000000    51.000000   51.000000         51.000000\n",
       "mean    77648.960784    30.215686   16.058824         14.156863\n",
       "std     10382.140535     9.636003    6.986878         10.561009\n",
       "min     61946.000000    14.000000    3.000000          1.000000\n",
       "25%     71703.500000    23.500000   10.000000          4.500000\n",
       "50%     74107.000000    30.000000   17.000000         12.000000\n",
       "75%     80374.500000    35.000000   21.000000         19.000000\n",
       "max    103985.000000    55.000000   31.000000         45.000000"
      ]
     },
     "execution_count": 8,
     "metadata": {},
     "output_type": "execute_result"
    }
   ],
   "source": [
    "super_bowl.describe()"
   ]
  },
  {
   "cell_type": "code",
   "execution_count": 14,
   "metadata": {},
   "outputs": [
    {
     "data": {
      "text/plain": [
       "Pittsburgh Steelers     6\n",
       "Dallas Cowboys          5\n",
       "San Francisco 49ers     5\n",
       "New England Patriots    5\n",
       "New York Giants         4\n",
       "Green Bay Packers       4\n",
       "Denver Broncos          3\n",
       "Washington Redskins     3\n",
       "Oakland Raiders         2\n",
       "Miami Dolphins          2\n",
       "Baltimore Ravens        2\n",
       "Chicago Bears           1\n",
       "Indianapolis Colts      1\n",
       "New York Jets           1\n",
       "Seattle Seahawks        1\n",
       "Tampa Bay Buccaneers    1\n",
       "Kansas City Chiefs      1\n",
       "Baltimore Colts         1\n",
       "New Orleans Saints      1\n",
       "St. Louis Rams          1\n",
       "Los Angeles Raiders     1\n",
       "Name: Winner, dtype: int64"
      ]
     },
     "execution_count": 14,
     "metadata": {},
     "output_type": "execute_result"
    }
   ],
   "source": [
    "super_bowl['Winner'].value_counts()"
   ]
  },
  {
   "cell_type": "code",
   "execution_count": 16,
   "metadata": {},
   "outputs": [
    {
     "data": {
      "text/plain": [
       "Ron Botchan        5\n",
       "Carl Paganelli     4\n",
       "Al Conway          4\n",
       "Art Demmas         4\n",
       "Jeff Rice          3\n",
       "Joe Connell        3\n",
       "Chad Brown         2\n",
       "Gordon Wells       2\n",
       "Lou Palazzi        2\n",
       "Bob Boylston       2\n",
       "Hendi Ancich       1\n",
       "Darrell Jenkins    1\n",
       "Ralph Morcroft     1\n",
       "Bill Schuster      1\n",
       "John Keck          1\n",
       "Roy Ellison        1\n",
       "Jim Quirk          1\n",
       "Tom Hensley        1\n",
       "Dan Ferrell        1\n",
       "Garth DeFelice     1\n",
       "Ed Coukart         1\n",
       "Jim Daopoulos      1\n",
       "Undrey Wash        1\n",
       "Paul Trepinski     1\n",
       "Frank Sinkovitz    1\n",
       "Tony Michalek      1\n",
       "Name: Umpire, dtype: int64"
      ]
     },
     "execution_count": 16,
     "metadata": {},
     "output_type": "execute_result"
    }
   ],
   "source": [
    "super_bowl['Umpire'].value_counts()"
   ]
  },
  {
   "cell_type": "code",
   "execution_count": 20,
   "metadata": {},
   "outputs": [
    {
     "data": {
      "text/plain": [
       "Winner                Coach Winner   \n",
       "Baltimore Colts       Don McCafferty     1\n",
       "Baltimore Ravens      Brian Billick      1\n",
       "                      John Harbaugh      1\n",
       "Chicago Bears         Mike Ditka         1\n",
       "Dallas Cowboys        Barry Switzer      1\n",
       "                      Jimmy Johnson      1\n",
       "                      Jimmy Johnson¾     1\n",
       "                      Tom Landry         2\n",
       "Denver Broncos        Gary Kubiak        1\n",
       "                      Mike Shanahan      1\n",
       "                      Mike Shanahan¾     1\n",
       "Green Bay Packers     Mike Holmgren      1\n",
       "                      Mike McCarthy      1\n",
       "                      Vince Lombardi     2\n",
       "Indianapolis Colts    Tony Dungy         1\n",
       "Kansas City Chiefs    Hank Stram         1\n",
       "Los Angeles Raiders   Tom Flores         1\n",
       "Miami Dolphins        Don Shula          2\n",
       "New England Patriots  Bill Belichick     1\n",
       "                      Bill Belichick¾    4\n",
       "New Orleans Saints    Sean Payton        1\n",
       "New York Giants       Bill Parcells      1\n",
       "                      Bill Parcells¾     1\n",
       "                      Tom Coughlin       1\n",
       "                      Tom Coughlin¾      1\n",
       "New York Jets         Weeb Ewbank        1\n",
       "Oakland Raiders       John Madden        1\n",
       "                      Tom Flores         1\n",
       "Pittsburgh Steelers   Bill Cowher        1\n",
       "                      Chuck Noll         2\n",
       "                      Chuck Noll         2\n",
       "                      Mike Tomlin        1\n",
       "San Francisco 49ers   Bill Walsh         2\n",
       "                      Bill Walsh¾        1\n",
       "                      George Seifert     1\n",
       "                      George Seifert¾    1\n",
       "Seattle Seahawks      Pete Carroll       1\n",
       "St. Louis Rams        Dick Vermeil       1\n",
       "Tampa Bay Buccaneers  Jon Gruden         1\n",
       "Washington Redskins   Joe Gibbs          1\n",
       "                      Joe Gibbs¾         2\n",
       "dtype: int64"
      ]
     },
     "execution_count": 20,
     "metadata": {},
     "output_type": "execute_result"
    }
   ],
   "source": [
    "super_bowl.groupby(['Winner', 'Coach Winner']).size()"
   ]
  },
  {
   "cell_type": "code",
   "execution_count": 21,
   "metadata": {},
   "outputs": [
    {
     "data": {
      "text/plain": [
       "Bill Belichick¾    4\n",
       "Tom Flores         2\n",
       "Chuck Noll         2\n",
       "Tom Landry         2\n",
       "Don Shula          2\n",
       "Vince Lombardi     2\n",
       "Bill Walsh         2\n",
       "Joe Gibbs¾         2\n",
       "Chuck Noll         2\n",
       "George Seifert     1\n",
       "Mike McCarthy      1\n",
       "Jimmy Johnson¾     1\n",
       "Bill Belichick     1\n",
       "Mike Shanahan      1\n",
       "Gary Kubiak        1\n",
       "Brian Billick      1\n",
       "Tony Dungy         1\n",
       "Don McCafferty     1\n",
       "Weeb Ewbank        1\n",
       "Hank Stram         1\n",
       "Pete Carroll       1\n",
       "Mike Tomlin        1\n",
       "Bill Parcells¾     1\n",
       "Tom Coughlin¾      1\n",
       "Jimmy Johnson      1\n",
       "Bill Walsh¾        1\n",
       "Mike Holmgren      1\n",
       "John Harbaugh      1\n",
       "Mike Ditka         1\n",
       "Bill Parcells      1\n",
       "Joe Gibbs          1\n",
       "John Madden        1\n",
       "Bill Cowher        1\n",
       "George Seifert¾    1\n",
       "Tom Coughlin       1\n",
       "Jon Gruden         1\n",
       "Dick Vermeil       1\n",
       "Barry Switzer      1\n",
       "Mike Shanahan¾     1\n",
       "Sean Payton        1\n",
       "Name: Coach Winner, dtype: int64"
      ]
     },
     "execution_count": 21,
     "metadata": {},
     "output_type": "execute_result"
    }
   ],
   "source": [
    "super_bowl['Coach Winner'].value_counts()"
   ]
  },
  {
   "cell_type": "markdown",
   "metadata": {},
   "source": [
    "The Steelers have won the most Super Bowls and Bill Belichick has been the coach for the winning team 4 times.\n",
    "\n",
    "There are errors in the data that will require cleanup, specifically the last character of certain names."
   ]
  },
  {
   "cell_type": "code",
   "execution_count": 23,
   "metadata": {},
   "outputs": [
    {
     "data": {
      "text/plain": [
       "<matplotlib.axes._subplots.AxesSubplot at 0x10d4b75c0>"
      ]
     },
     "execution_count": 23,
     "metadata": {},
     "output_type": "execute_result"
    },
    {
     "data": {
      "image/png": "[encoded data removed]",
      "text/plain": [
       "<matplotlib.figure.Figure at 0x10d457358>"
      ]
     },
     "metadata": {},
     "output_type": "display_data"
    }
   ],
   "source": [
    "%matplotlib inline\n",
    "super_bowl.plot(x='Date', y='Winning Pts')"
   ]
  },
  {
   "cell_type": "code",
   "execution_count": 24,
   "metadata": {},
   "outputs": [
    {
     "data": {
      "text/plain": [
       "<matplotlib.axes._subplots.AxesSubplot at 0x10d4bd7b8>"
      ]
     },
     "execution_count": 24,
     "metadata": {},
     "output_type": "execute_result"
    },
    {
     "data": {
      "image/png": "[encoded data removed]",
      "text/plain": [
       "<matplotlib.figure.Figure at 0x10d4ca710>"
      ]
     },
     "metadata": {},
     "output_type": "display_data"
    }
   ],
   "source": [
    "super_bowl.plot(x='Date', y='Losing Pts')"
   ]
  },
  {
   "cell_type": "markdown",
   "metadata": {},
   "source": [
    "Losing points have gone from ~10 to 30 but fluctuate from year to year. \n",
    "\n",
    "Winning points fluctuate. "
   ]
  },
  {
   "cell_type": "code",
   "execution_count": 25,
   "metadata": {},
   "outputs": [
    {
     "data": {
      "text/plain": [
       "<matplotlib.axes._subplots.AxesSubplot at 0x10d52b7f0>"
      ]
     },
     "execution_count": 25,
     "metadata": {},
     "output_type": "execute_result"
    },
    {
     "data": {
      "image/png": "[encoded data removed]",
      "text/plain": [
       "<matplotlib.figure.Figure at 0x11093ee48>"
      ]
     },
     "metadata": {},
     "output_type": "display_data"
    }
   ],
   "source": [
    "super_bowl.plot(x='Date', y='Attendance')"
   ]
  },
  {
   "cell_type": "markdown",
   "metadata": {},
   "source": [
    "Attendance has not changed drastically over time, remaing at about 70,000. This would make sense given stadium requirements."
   ]
  },
  {
   "cell_type": "code",
   "execution_count": 27,
   "metadata": {},
   "outputs": [
    {
     "data": {
      "text/plain": [
       "array(['Bart Starr', 'Joe Namath', 'Len Dawson, Mike Livingston',\n",
       "       'Earl Morrall , Johnny Unitas', 'Roger Staubach', 'Bob Griese',\n",
       "       'Terry Bradshaw', 'Kenny Stabler', 'Jim Plunkett', 'Joe Montana',\n",
       "       'Joe Theismann', 'Joe Montano', 'Jim McMahon', 'Phil Simms',\n",
       "       'Doug Williams', 'Jeff Hostetler', 'Mark Rypien', 'Troy Aikman',\n",
       "       'Steve Young', 'Brett Favre', 'John Elway', 'Kurt Warner',\n",
       "       'Trent Dilfer', 'Tom Brady', 'Brad Johnson', 'Ben Roethlisberger',\n",
       "       'Peyton Manning', 'Eli Manning', 'Drew Brees', 'Aaron Rodgers',\n",
       "       'Joe Flacco', 'Russell Wilson'], dtype=object)"
      ]
     },
     "execution_count": 27,
     "metadata": {},
     "output_type": "execute_result"
    }
   ],
   "source": [
    "super_bowl['QB  Winner'].unique()"
   ]
  },
  {
   "cell_type": "code",
   "execution_count": 64,
   "metadata": {},
   "outputs": [
    {
     "name": "stdout",
     "output_type": "stream",
     "text": [
      "        Date  SB  Attendance                   QB  Winner Coach Winner  \\\n",
      "3  11-Jan-70  IV       80562  Len Dawson, Mike Livingston   Hank Stram   \n",
      "\n",
      "               Winner  Winning Pts  QB Loser Coach Loser              Loser  \\\n",
      "3  Kansas City Chiefs           23  Joe Kapp   Bud Grant  Minnesota Vikings   \n",
      "\n",
      "     ...             City      State Point Difference Referee Umpire  \\\n",
      "3    ...      New Orleans  Louisiana               16     NaN    NaN   \n",
      "\n",
      "   Head Linesman Line Judge Field Judge Back Judge Side Judge  \n",
      "3            NaN        NaN         NaN        NaN        NaN  \n",
      "\n",
      "[1 rows x 23 columns]\n",
      "        Date SB  Attendance                    QB  Winner    Coach Winner  \\\n",
      "4  17-Jan-71  V       79204  Earl Morrall , Johnny Unitas  Don McCafferty   \n",
      "\n",
      "            Winner  Winning Pts      QB Loser Coach Loser           Loser  \\\n",
      "4  Baltimore Colts           16  Craig Morton  Tom Landry  Dallas Cowboys   \n",
      "\n",
      "     ...       City    State Point Difference         Referee          Umpire  \\\n",
      "4    ...      Miami  Florida                3  Norm Schachter  Paul Trepinski   \n",
      "\n",
      "   Head Linesman  Line Judge Field Judge   Back Judge Side Judge  \n",
      "4      Ed Marion  Jack Fette  Fritz Graf  Hugh Gamber        NaN  \n",
      "\n",
      "[1 rows x 23 columns]\n"
     ]
    }
   ],
   "source": [
    "for qb in super_bowl['QB  Winner']: \n",
    "    if ',' in qb: \n",
    "        print(super_bowl[super_bowl['QB  Winner']==qb])\n",
    "        \n",
    "\n"
   ]
  },
  {
   "cell_type": "markdown",
   "metadata": {},
   "source": [
    "These are the two superbowls where there were two QBs as winners."
   ]
  },
  {
   "cell_type": "code",
   "execution_count": 63,
   "metadata": {},
   "outputs": [
    {
     "name": "stdout",
     "output_type": "stream",
     "text": [
      "         Date   SB  Attendance      QB  Winner Coach Winner          Winner  \\\n",
      "11  15-Jan-78  XII       76400  Roger Staubach   Tom Landry  Dallas Cowboys   \n",
      "\n",
      "    Winning Pts      QB Loser Coach Loser           Loser    ...      \\\n",
      "11           27  Craig Morton  Red Miller  Denver Broncos    ...       \n",
      "\n",
      "           City      State Point Difference     Referee       Umpire  \\\n",
      "11  New Orleans  Louisiana               17  Jim Tunney  Joe Connell   \n",
      "\n",
      "    Head Linesman Line Judge  Field Judge   Back Judge Side Judge  \n",
      "11    Tony Veteri  Art Holst  Bob Wortman  Ray Douglas        NaN  \n",
      "\n",
      "[1 rows x 23 columns]\n"
     ]
    }
   ],
   "source": [
    "for MVP in super_bowl['MVP']: \n",
    "    if ',' in MVP: \n",
    "        print(super_bowl[super_bowl['MVP']==MVP])"
   ]
  },
  {
   "cell_type": "markdown",
   "metadata": {},
   "source": [
    "These are the instances where there were two MVPs for the superbowls."
   ]
  },
  {
   "cell_type": "markdown",
   "metadata": {},
   "source": [
    "There are missing values in the last column fields as show below"
   ]
  },
  {
   "cell_type": "code",
   "execution_count": 46,
   "metadata": {},
   "outputs": [
    {
     "data": {
      "text/html": [
       "<div>\n",
       "<style>\n",
       "    .dataframe thead tr:only-child th {\n",
       "        text-align: right;\n",
       "    }\n",
       "\n",
       "    .dataframe thead th {\n",
       "        text-align: left;\n",
       "    }\n",
       "\n",
       "    .dataframe tbody tr th {\n",
       "        vertical-align: top;\n",
       "    }\n",
       "</style>\n",
       "<table border=\"1\" class=\"dataframe\">\n",
       "  <thead>\n",
       "    <tr style=\"text-align: right;\">\n",
       "      <th></th>\n",
       "      <th>Referee</th>\n",
       "      <th>Umpire</th>\n",
       "      <th>Head Linesman</th>\n",
       "      <th>Line Judge</th>\n",
       "      <th>Field Judge</th>\n",
       "      <th>Back Judge</th>\n",
       "    </tr>\n",
       "  </thead>\n",
       "  <tbody>\n",
       "    <tr>\n",
       "      <th>0</th>\n",
       "      <td>NaN</td>\n",
       "      <td>NaN</td>\n",
       "      <td>NaN</td>\n",
       "      <td>NaN</td>\n",
       "      <td>NaN</td>\n",
       "      <td>NaN</td>\n",
       "    </tr>\n",
       "    <tr>\n",
       "      <th>1</th>\n",
       "      <td>NaN</td>\n",
       "      <td>NaN</td>\n",
       "      <td>NaN</td>\n",
       "      <td>NaN</td>\n",
       "      <td>NaN</td>\n",
       "      <td>NaN</td>\n",
       "    </tr>\n",
       "    <tr>\n",
       "      <th>2</th>\n",
       "      <td>NaN</td>\n",
       "      <td>NaN</td>\n",
       "      <td>NaN</td>\n",
       "      <td>NaN</td>\n",
       "      <td>NaN</td>\n",
       "      <td>NaN</td>\n",
       "    </tr>\n",
       "    <tr>\n",
       "      <th>3</th>\n",
       "      <td>NaN</td>\n",
       "      <td>NaN</td>\n",
       "      <td>NaN</td>\n",
       "      <td>NaN</td>\n",
       "      <td>NaN</td>\n",
       "      <td>NaN</td>\n",
       "    </tr>\n",
       "    <tr>\n",
       "      <th>4</th>\n",
       "      <td>Norm Schachter</td>\n",
       "      <td>Paul Trepinski</td>\n",
       "      <td>Ed Marion</td>\n",
       "      <td>Jack Fette</td>\n",
       "      <td>Fritz Graf</td>\n",
       "      <td>Hugh Gamber</td>\n",
       "    </tr>\n",
       "  </tbody>\n",
       "</table>\n",
       "</div>"
      ],
      "text/plain": [
       "          Referee          Umpire Head Linesman  Line Judge Field Judge  \\\n",
       "0             NaN             NaN           NaN         NaN         NaN   \n",
       "1             NaN             NaN           NaN         NaN         NaN   \n",
       "2             NaN             NaN           NaN         NaN         NaN   \n",
       "3             NaN             NaN           NaN         NaN         NaN   \n",
       "4  Norm Schachter  Paul Trepinski     Ed Marion  Jack Fette  Fritz Graf   \n",
       "\n",
       "    Back Judge  \n",
       "0          NaN  \n",
       "1          NaN  \n",
       "2          NaN  \n",
       "3          NaN  \n",
       "4  Hugh Gamber  "
      ]
     },
     "execution_count": 46,
     "metadata": {},
     "output_type": "execute_result"
    }
   ],
   "source": [
    "super_bowl[['Referee', 'Umpire',\n",
    "       'Head Linesman', 'Line Judge', 'Field Judge', 'Back Judge',]].head()"
   ]
  },
  {
   "cell_type": "markdown",
   "metadata": {},
   "source": [
    "These missing values might be because of rule changes in the Super Bowl."
   ]
  },
  {
   "cell_type": "markdown",
   "metadata": {},
   "source": [
    "Questions to answer: \n",
    "1. Which coach has made it to the most Super Bowls? (this counts winning and losing)\n",
    "2. Which team has made it to the most Super Bowls (this counts winning and losing)\n",
    "3. Which quarterback has won the most Super Bowls?\n",
    "4. Which state has hosted the most Super Bowls?\n"
   ]
  },
  {
   "cell_type": "code",
   "execution_count": 82,
   "metadata": {},
   "outputs": [
    {
     "name": "stdout",
     "output_type": "stream",
     "text": [
      "Don Shula : 6\n",
      "Tom Landry : 5\n",
      "Bill Belichick¾ : 5\n",
      "Bud Grant : 4\n",
      "Dan Reeves¾ : 3\n",
      "Marv Levy¾ : 3\n",
      "Vince Lombardi : 2\n",
      "Hank Stram : 2\n",
      "Chuck Noll  : 2\n",
      "Chuck Noll : 2\n",
      "Tom Flores : 2\n",
      "Bill Walsh : 2\n",
      "Joe Gibbs : 2\n",
      "Bill Parcells : 2\n",
      "Joe Gibbs¾ : 2\n",
      "Mike Holmgren : 2\n",
      "Dick Vermeil : 2\n",
      "Bill Belichick : 2\n",
      "Bill Cowher : 2\n",
      "Mike Tomlin : 2\n",
      "Pete Carroll : 2\n",
      "Weeb Ewbank : 1\n",
      "Don McCafferty : 1\n",
      "John Madden : 1\n",
      "Mike Ditka : 1\n",
      "Bill Walsh¾ : 1\n",
      "George Seifert : 1\n",
      "Bill Parcells¾ : 1\n",
      "Jimmy Johnson : 1\n",
      "Jimmy Johnson¾ : 1\n",
      "George Seifert¾ : 1\n",
      "Barry Switzer : 1\n",
      "Mike Shanahan : 1\n",
      "Mike Shanahan¾ : 1\n",
      "Brian Billick : 1\n",
      "Jon Gruden : 1\n",
      "Tony Dungy : 1\n",
      "Tom Coughlin : 1\n",
      "Sean Payton : 1\n",
      "Mike McCarthy : 1\n",
      "Tom Coughlin¾ : 1\n",
      "John Harbaugh : 1\n",
      "Gary Kubiak : 1\n",
      "John Rauch : 1\n",
      "George Allen : 1\n",
      "Red Miller : 1\n",
      "Ray Malavasi : 1\n",
      "Forrest Gregg : 1\n",
      "Raymond Berry : 1\n",
      "Dan Reeves : 1\n",
      "Sam Wyche : 1\n",
      "Marv Levy : 1\n",
      "Bobby Ross : 1\n",
      "Jeff Fisher : 1\n",
      "Jim Fassel : 1\n",
      "Mike Martz : 1\n",
      "Bill Callahan : 1\n",
      "John Fox : 1\n",
      "Andy Reid : 1\n",
      "Mike Holmgren¾ : 1\n",
      "Lovie Smith : 1\n",
      "Ken Whisenhunt : 1\n",
      "Jim Caldwell : 1\n",
      "Jim Harbaugh : 1\n",
      "John Fox¾ : 1\n",
      "Ron Rivera : 1\n",
      "Dan Quinn : 1\n"
     ]
    }
   ],
   "source": [
    "counts = {} \n",
    "\n",
    "for win_coach in super_bowl['Coach Winner']:\n",
    "    if win_coach in counts: \n",
    "        counts[win_coach] = counts[win_coach] + 1\n",
    "    else: \n",
    "        counts[win_coach] = 1\n",
    "\n",
    "for lose_coach in super_bowl['Coach Loser']:\n",
    "    if lose_coach in counts: \n",
    "        counts[lose_coach] = counts[lose_coach] + 1 \n",
    "    else:\n",
    "        counts[lose_coach] = 1 \n",
    "        \n",
    "sorted_names = sorted(counts, key=lambda x: counts[x],reverse=True)\n",
    "for k in sorted_names:\n",
    "    print(\"{} : {}\".format(k, counts[k]))\n",
    "        \n",
    "        "
   ]
  },
  {
   "cell_type": "markdown",
   "metadata": {},
   "source": [
    "Don Shula is the coach that has gone to the superbowl the most times. There are some interesting data anomolies, namely the 3/4 at the end of some names. "
   ]
  },
  {
   "cell_type": "code",
   "execution_count": 83,
   "metadata": {},
   "outputs": [
    {
     "name": "stdout",
     "output_type": "stream",
     "text": [
      "New England Patriots : 9\n",
      "Dallas Cowboys : 8\n",
      "Pittsburgh Steelers : 8\n",
      "Denver Broncos : 8\n",
      "San Francisco 49ers : 6\n",
      "Green Bay Packers : 5\n",
      "Miami Dolphins : 5\n",
      "Washington Redskins : 5\n",
      "New York Giants : 5\n",
      "Oakland Raiders : 4\n",
      "Seattle Seahawks : 3\n",
      "Kansas City Chiefs : 2\n",
      "Baltimore Colts : 2\n",
      "Chicago Bears : 2\n",
      "St. Louis Rams : 2\n",
      "Baltimore Ravens : 2\n",
      "Indianapolis Colts : 2\n",
      "New York Jets : 1\n",
      "Los Angeles Raiders : 1\n",
      "Tampa Bay Buccaneers : 1\n",
      "New Orleans Saints : 1\n"
     ]
    }
   ],
   "source": [
    "counts2 = {} \n",
    "\n",
    "for win_team in super_bowl['Winner']:\n",
    "    if win_team in counts2: \n",
    "        counts2[win_team] = counts2[win_team] + 1\n",
    "    else: \n",
    "        counts2[win_team] = 1\n",
    "\n",
    "for lose_team in super_bowl['Loser']:\n",
    "    if lose_team in counts2: \n",
    "        counts2[lose_team] = counts2[lose_team] + 1 \n",
    "    else:\n",
    "        counts[lose_team] = 1 \n",
    "        \n",
    "sorted_names = sorted(counts2, key=lambda x: counts2[x],reverse=True)\n",
    "for k in sorted_names:\n",
    "    print(\"{} : {}\".format(k, counts2[k]))\n",
    "        "
   ]
  },
  {
   "cell_type": "markdown",
   "metadata": {},
   "source": [
    "The New England Patriots have gone to the most superbowls."
   ]
  },
  {
   "cell_type": "code",
   "execution_count": 85,
   "metadata": {},
   "outputs": [
    {
     "data": {
      "text/plain": [
       "Tom Brady                       5\n",
       "Terry Bradshaw                  4\n",
       "Joe Montana                     3\n",
       "Troy Aikman                     3\n",
       "Bart Starr                      2\n",
       "Bob Griese                      2\n",
       "Roger Staubach                  2\n",
       "Jim Plunkett                    2\n",
       "John Elway                      2\n",
       "Ben Roethlisberger              2\n",
       "Peyton Manning                  2\n",
       "Eli Manning                     2\n",
       "Len Dawson, Mike Livingston     1\n",
       "Phil Simms                      1\n",
       "Jim McMahon                     1\n",
       "Jeff Hostetler                  1\n",
       "Trent Dilfer                    1\n",
       "Russell Wilson                  1\n",
       "Joe Namath                      1\n",
       "Mark Rypien                     1\n",
       "Brad Johnson                    1\n",
       "Kenny Stabler                   1\n",
       "Joe Montano                     1\n",
       "Doug Williams                   1\n",
       "Kurt Warner                     1\n",
       "Steve Young                     1\n",
       "Aaron Rodgers                   1\n",
       "Brett Favre                     1\n",
       "Earl Morrall , Johnny Unitas    1\n",
       "Joe Flacco                      1\n",
       "Drew Brees                      1\n",
       "Joe Theismann                   1\n",
       "Name: QB  Winner, dtype: int64"
      ]
     },
     "execution_count": 85,
     "metadata": {},
     "output_type": "execute_result"
    }
   ],
   "source": [
    "super_bowl['QB  Winner'].value_counts()"
   ]
  },
  {
   "cell_type": "markdown",
   "metadata": {},
   "source": [
    "Tom Brady is the QB that has gone to the most superbowls (n=5)."
   ]
  },
  {
   "cell_type": "code",
   "execution_count": 86,
   "metadata": {},
   "outputs": [
    {
     "data": {
      "text/plain": [
       "Florida       15\n",
       "California    12\n",
       "Louisiana     10\n",
       "Texas          4\n",
       "Arizona        3\n",
       "Georgia        2\n",
       "Michigan       2\n",
       "New Jersey     1\n",
       "Indiana        1\n",
       "Minnesota      1\n",
       "Name: State, dtype: int64"
      ]
     },
     "execution_count": 86,
     "metadata": {},
     "output_type": "execute_result"
    }
   ],
   "source": [
    "super_bowl['State'].value_counts()"
   ]
  },
  {
   "cell_type": "markdown",
   "metadata": {},
   "source": [
    "Florida has hosted the most superbowls (n=15)."
   ]
  },
  {
   "cell_type": "markdown",
   "metadata": {},
   "source": [
    "1. How many people have collectively attended all of the Super Bowls?\n",
    "2. What's the average point difference in Super Bowls?\n",
    "3. Is the average attendance for the past 10 years of Super Bowls different from the average attendance for the first 10 years of Super Bowls?\n",
    "4. Is the average point difference for the past 10 years of Super Bowls different from the average point difference for the first 10 years of Super Bowls?\n"
   ]
  },
  {
   "cell_type": "code",
   "execution_count": 89,
   "metadata": {},
   "outputs": [
    {
     "data": {
      "text/plain": [
       "3960097"
      ]
     },
     "execution_count": 89,
     "metadata": {},
     "output_type": "execute_result"
    }
   ],
   "source": [
    "int(super_bowl['Attendance'].sum())"
   ]
  },
  {
   "cell_type": "markdown",
   "metadata": {},
   "source": [
    "A total of 3960097 people have collectively attended all the Super Bowls."
   ]
  },
  {
   "cell_type": "code",
   "execution_count": 90,
   "metadata": {},
   "outputs": [
    {
     "data": {
      "text/plain": [
       "14"
      ]
     },
     "execution_count": 90,
     "metadata": {},
     "output_type": "execute_result"
    }
   ],
   "source": [
    "int(super_bowl['Point Difference'].mean())"
   ]
  },
  {
   "cell_type": "markdown",
   "metadata": {},
   "source": [
    "The average point difference is 14 points."
   ]
  },
  {
   "cell_type": "code",
   "execution_count": 97,
   "metadata": {},
   "outputs": [
    {
     "data": {
      "text/plain": [
       "False"
      ]
     },
     "execution_count": 97,
     "metadata": {},
     "output_type": "execute_result"
    }
   ],
   "source": [
    "first_ten_pt_diff = int(super_bowl.head(10)['Point Difference'].mean())\n",
    "recent_ten_pt_diff = int(super_bowl.tail(10)['Point Difference'].mean())\n",
    "\n",
    "first_ten_pt_diff == recent_ten_pt_diff"
   ]
  },
  {
   "cell_type": "code",
   "execution_count": 98,
   "metadata": {},
   "outputs": [
    {
     "data": {
      "text/plain": [
       "13"
      ]
     },
     "execution_count": 98,
     "metadata": {},
     "output_type": "execute_result"
    }
   ],
   "source": [
    "first_ten_pt_diff"
   ]
  },
  {
   "cell_type": "code",
   "execution_count": 99,
   "metadata": {},
   "outputs": [
    {
     "data": {
      "text/plain": [
       "9"
      ]
     },
     "execution_count": 99,
     "metadata": {},
     "output_type": "execute_result"
    }
   ],
   "source": [
    "recent_ten_pt_diff"
   ]
  },
  {
   "cell_type": "markdown",
   "metadata": {},
   "source": [
    "The average point difference was much larger the first ten years of Super Bowls than the recent 10."
   ]
  },
  {
   "cell_type": "code",
   "execution_count": 101,
   "metadata": {},
   "outputs": [
    {
     "data": {
      "text/plain": [
       "False"
      ]
     },
     "execution_count": 101,
     "metadata": {},
     "output_type": "execute_result"
    }
   ],
   "source": [
    "first_ten_att = int(super_bowl.head(10)['Attendance'].mean())\n",
    "recent_ten_att = int(super_bowl.tail(10)['Attendance'].mean())\n",
    "\n",
    "first_ten_att == recent_ten_att"
   ]
  },
  {
   "cell_type": "code",
   "execution_count": 102,
   "metadata": {},
   "outputs": [
    {
     "data": {
      "text/plain": [
       "77691"
      ]
     },
     "execution_count": 102,
     "metadata": {},
     "output_type": "execute_result"
    }
   ],
   "source": [
    "first_ten_att"
   ]
  },
  {
   "cell_type": "code",
   "execution_count": 103,
   "metadata": {},
   "outputs": [
    {
     "data": {
      "text/plain": [
       "75354"
      ]
     },
     "execution_count": 103,
     "metadata": {},
     "output_type": "execute_result"
    }
   ],
   "source": [
    "recent_ten_att"
   ]
  },
  {
   "cell_type": "markdown",
   "metadata": {},
   "source": [
    "The average attendance was larger during the first ten superbowls by 2,307."
   ]
  },
  {
   "cell_type": "markdown",
   "metadata": {},
   "source": [
    "3 more questions: \n",
    "1. Have the average winning points changed from the first ten years to the most recent? \n",
    "2. How has that changed over time (through a graph)? \n",
    "3. Same questions for losing points.\n"
   ]
  },
  {
   "cell_type": "code",
   "execution_count": 107,
   "metadata": {},
   "outputs": [
    {
     "name": "stdout",
     "output_type": "stream",
     "text": [
      "22\n",
      "29\n"
     ]
    },
    {
     "data": {
      "text/plain": [
       "False"
      ]
     },
     "execution_count": 107,
     "metadata": {},
     "output_type": "execute_result"
    }
   ],
   "source": [
    "first_ten_winpts = int(super_bowl.head(10)['Winning Pts'].mean())\n",
    "recent_ten_winpts= int(super_bowl.tail(10)['Winning Pts'].mean())\n",
    "\n",
    "print(first_ten_winpts)\n",
    "print(recent_ten_winpts)\n",
    "\n",
    "first_ten_winpts == recent_ten_winpts"
   ]
  },
  {
   "cell_type": "markdown",
   "metadata": {},
   "source": [
    "The average winning points are greater in the ten most recent games than in those first ones by 7 pts. "
   ]
  },
  {
   "cell_type": "code",
   "execution_count": 108,
   "metadata": {},
   "outputs": [
    {
     "data": {
      "text/plain": [
       "<matplotlib.axes._subplots.AxesSubplot at 0x10d549630>"
      ]
     },
     "execution_count": 108,
     "metadata": {},
     "output_type": "execute_result"
    },
    {
     "data": {
      "image/png": "[encoded data removed]",
      "text/plain": [
       "<matplotlib.figure.Figure at 0x110c55470>"
      ]
     },
     "metadata": {},
     "output_type": "display_data"
    }
   ],
   "source": [
    "super_bowl['Winning Pts'].plot()"
   ]
  },
  {
   "cell_type": "markdown",
   "metadata": {},
   "source": [
    "The graph shows how the winning pts fluctuates yet has increased overall from the initial games where the winning points were quite low."
   ]
  },
  {
   "cell_type": "code",
   "execution_count": 109,
   "metadata": {},
   "outputs": [
    {
     "name": "stdout",
     "output_type": "stream",
     "text": [
      "9\n",
      "19\n"
     ]
    },
    {
     "data": {
      "text/plain": [
       "False"
      ]
     },
     "execution_count": 109,
     "metadata": {},
     "output_type": "execute_result"
    }
   ],
   "source": [
    "first_ten_losepts = int(super_bowl.head(10)['Losing Pts'].mean())\n",
    "recent_ten_losepts= int(super_bowl.tail(10)['Losing Pts'].mean())\n",
    "\n",
    "print(first_ten_losepts)\n",
    "print(recent_ten_losepts)\n",
    "\n",
    "first_ten_losepts == recent_ten_losepts"
   ]
  },
  {
   "cell_type": "markdown",
   "metadata": {},
   "source": [
    "The average losing points seems to have increased from the early days where it was 9 versus 19 in the 10 most recent games."
   ]
  },
  {
   "cell_type": "code",
   "execution_count": 110,
   "metadata": {},
   "outputs": [
    {
     "data": {
      "text/plain": [
       "<matplotlib.axes._subplots.AxesSubplot at 0x110a22e10>"
      ]
     },
     "execution_count": 110,
     "metadata": {},
     "output_type": "execute_result"
    },
    {
     "data": {
      "image/png": "[encoded data removed]",
      "text/plain": [
       "<matplotlib.figure.Figure at 0x110c6cfd0>"
      ]
     },
     "metadata": {},
     "output_type": "display_data"
    }
   ],
   "source": [
    "super_bowl['Losing Pts'].plot()"
   ]
  },
  {
   "cell_type": "markdown",
   "metadata": {},
   "source": [
    "We see a similar pattern of the early games having low losing points compared to today's games."
   ]
  },
  {
   "cell_type": "code",
   "execution_count": null,
   "metadata": {
    "collapsed": true
   },
   "outputs": [],
   "source": []
  }
 ],
 "metadata": {
  "kernelspec": {
   "display_name": "Python 3",
   "language": "python",
   "name": "python3"
  },
  "language_info": {
   "codemirror_mode": {
    "name": "ipython",
    "version": 3
   },
   "file_extension": ".py",
   "mimetype": "text/x-python",
   "name": "python",
   "nbconvert_exporter": "python",
   "pygments_lexer": "ipython3",
   "version": "3.6.3"
  }
 },
 "nbformat": 4,
 "nbformat_minor": 2
}
